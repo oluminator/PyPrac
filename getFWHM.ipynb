{
 "cells": [
  {
   "cell_type": "code",
   "execution_count": null,
   "id": "2ceb5c85-0ca2-4ded-bb42-87ea254a32e0",
   "metadata": {},
   "outputs": [],
   "source": [
    "\n",
    "def getFWHM(SPD_fn):\n",
    "    # =============================================================================\n",
    "    # Open up the csv that was generated/exported from MATLAB\n",
    "    # =============================================================================\n",
    "    spec_df = pd.read_csv(SPD_fn)\n",
    "    spec = spec_df.to_numpy()\n",
    "      \n",
    "    # extract column 1, save as variable for wavelengths\n",
    "    lambda_col = spec[:, 0]\n",
    "    # extract column 2, save as variable for intensity\n",
    "    I_col = spec[:, 1]\n",
    "    # plot spectrum\n",
    "    plt.title(\"test cyan spectrum\")\n",
    "    plt.plot(lambda_col, I_col)\n",
    "     \n",
    "    # use numpy or other to find max value of spectrum and corresponding index\n",
    "    max_val = np.max(spec[:, 1])\n",
    "    max_idx = np.argmax(spec[:, 1])\n",
    " \n",
    "    # find corresponding peak wavelength\n",
    "    max_lambda = lambda_col[max_idx]\n",
    "    print(\"peak wavelength (nm) is:\")\n",
    "    print(max_lambda)\n",
    "    \n",
    "    # subtract half of the max value, then take absolute value of the whole array\n",
    "    I_BW = np.absolute(I_col - (0.5*max_val))\n",
    "  \n",
    "    # find FWHM_lb, FWHM_lb_idx the mininum value and index left of max value, \n",
    "    # this corresponds to the \n",
    "    # point closest to 50% of max value, left of maximum\n",
    "    FWHM_lb_idx = np.argmin(I_BW[0:max_idx])\n",
    "    FWHM_lb = lambda_col[FWHM_lb_idx]\n",
    " \n",
    "    \n",
    "    # find FWHM_ub, FWHM_ub_idx the mininum value and index right of max value, \n",
    "    # this corresponds to the \n",
    "    # point closest to 50% of max value, right of maximum\n",
    "    FWHM_ub_idx = np.argmin(I_BW[max_idx:])\n",
    "    FWHM_ub = lambda_col[FWHM_ub_idx+max_idx]\n",
    "   \n",
    "    \n",
    "    # subtract wavelengths(idx50_r) - wavelengths(idx50_l) or upper bound minus lower bound\n",
    "    FWHM = FWHM_ub - FWHM_lb\n",
    "    print(\"FWHM (nm) is:\")\n",
    "    print(FWHM)"
   ]
  }
 ],
 "metadata": {
  "kernelspec": {
   "display_name": "meep",
   "language": "python",
   "name": "meep"
  },
  "language_info": {
   "codemirror_mode": {
    "name": "ipython",
    "version": 3
   },
   "file_extension": ".py",
   "mimetype": "text/x-python",
   "name": "python",
   "nbconvert_exporter": "python",
   "pygments_lexer": "ipython3",
   "version": "3.9.7"
  }
 },
 "nbformat": 4,
 "nbformat_minor": 5
}
